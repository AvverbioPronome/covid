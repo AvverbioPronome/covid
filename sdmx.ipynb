{
 "cells": [
  {
   "cell_type": "code",
   "execution_count": 1,
   "metadata": {},
   "outputs": [
    {
     "data": {
      "text/plain": [
       "{'': {'id': 'NO_AGENCY', 'resources': {}},\n",
       " 'ESTAT_S': {'id': 'ESTAT',\n",
       "  'resources': {'data': {'headers': {'Accept': 'application/vnd.sdmx.structurespecificdata+xml'}}},\n",
       "  'url': 'http://ec.europa.eu/eurostat/SDMX/diss-web/rest',\n",
       "  'name': 'Eurostat - structure-specific data format'},\n",
       " 'ESTAT': {'id': 'ESTAT',\n",
       "  'resources': {},\n",
       "  'url': 'http://ec.europa.eu/eurostat/SDMX/diss-web/rest',\n",
       "  'name': 'Eurostat - generic data format'},\n",
       " 'UNSD': {'id': 'UNSD',\n",
       "  'supports_series_keys_only': True,\n",
       "  'resources': {},\n",
       "  'url': 'http://data.un.org/WS/rest',\n",
       "  'name': 'United Nations Statistics Division'},\n",
       " 'UNESCO': {'id': 'UNESCO',\n",
       "  'supports_series_keys_only': True,\n",
       "  'headers': {'accept': 'application/vnd.sdmx.structure+xml;version=2.1'},\n",
       "  'resources': {},\n",
       "  'url': 'http://api.uis.unesco.org/sdmx',\n",
       "  'name': 'UNESCO (subscription key required)'},\n",
       " 'IMF_SDMXCENTRAL': {'id': 'IMF',\n",
       "  'supports_series_keys_only': True,\n",
       "  'resources': {},\n",
       "  'url': 'https://sdmxcentral.imf.org/ws/public/sdmxapi/rest',\n",
       "  'name': 'International Monetary Fund - SDMXCentral'},\n",
       " 'SGR': {'id': 'SGR',\n",
       "  'resources': {},\n",
       "  'url': 'https://registry.sdmx.org/FusionRegistry/ws/rest',\n",
       "  'name': 'SDMX Global Registry'},\n",
       " 'INSEE': {'id': 'FR1',\n",
       "  'resources': {'data': {'headers': {'Accept': 'application/vnd.sdmx.genericdata+xml;version=2.1'}}},\n",
       "  'url': 'https://www.bdm.insee.fr/series/sdmx',\n",
       "  'name': 'Institut national de la statistique et des études économiques'},\n",
       " 'INSEE_S': {'id': 'FR1',\n",
       "  'resources': {},\n",
       "  'url': 'https://www.bdm.insee.fr/series/sdmx',\n",
       "  'name': 'Institut national de la statistique et des études économiques - structure-specific data format'},\n",
       " 'OECD': {'id': 'OECD',\n",
       "  'resources': {'data': {'headers': {}, 'json': True}},\n",
       "  'url': 'http://stats.oecd.org/SDMX-JSON',\n",
       "  'name': 'Organisation for Economic Co-operation and Development'},\n",
       " 'ECB': {'id': 'ECB',\n",
       "  'supports_series_keys_only': True,\n",
       "  'resources': {},\n",
       "  'url': 'http://sdw-wsrest.ecb.int/service',\n",
       "  'name': 'European Central Bank - generic data format'},\n",
       " 'ECB_S': {'id': 'ECB',\n",
       "  'supports_series_keys_only': True,\n",
       "  'resources': {'data': {'headers': {'Accept': 'application/vnd.sdmx.structurespecificdata+xml;version=2.1'}}},\n",
       "  'url': 'http://sdw-wsrest.ecb.int/service',\n",
       "  'name': 'European Central Bank - structure-specific data format'},\n",
       " 'ABS': {'id': 'ABS',\n",
       "  'resources': {'data': {'headers': {}, 'json': True}},\n",
       "  'url': 'http://stat.data.abs.gov.au/sdmx-json',\n",
       "  'name': 'Australian Bureau of Statistics'},\n",
       " 'WBG_WITS': {'name': 'World Bank Integrated Trade Solution',\n",
       "  'id': 'WBG_WITS',\n",
       "  'url': 'http://wits.worldbank.org/API/V1/SDMX/V21/rest',\n",
       "  'resources': {'data': {'headers': {}}}},\n",
       " 'INEGI': {'name': 'Instituto Nacional de estatistica y geografìa - INEGI (Mexico) - generic datasets',\n",
       "  'id': 'INEGI',\n",
       "  'url': 'http://sdmx.snieg.mx/service/rest',\n",
       "  'resources': {'data': {'headers': {}}}},\n",
       " 'INEGI_S': {'name': 'Instituto Nacional de estatistica y geografìa - INEGI (Mexico) - structure-specific datasets',\n",
       "  'id': 'INEGI',\n",
       "  'url': 'http://sdmx.snieg.mx/service/rest',\n",
       "  'resources': {'data': {'headers': {'Accept': 'application/vnd.sdmx.structurespecificdata+xml'}}}},\n",
       " 'ISTAT_S': {'name': 'Italian Statistics Office - structure-specific data',\n",
       "  'url': 'http://sdmx.istat.it/SDMXWS/rest',\n",
       "  'resources': {'data': {'headers': {'Accept': 'application/vnd.sdmx.structurespecificdata+xml'}}}},\n",
       " 'ISTAT': {'name': 'Italian Statistics Office - generic data',\n",
       "  'url': 'http://sdmx.istat.it/SDMXWS/rest',\n",
       "  'resources': {'data': {'headers': {}}}},\n",
       " 'NB': {'id': 'NB',\n",
       "  'resources': {'data': {'headers': {'Accept': 'application/vnd.sdmx.genericdata+xml;version=2.1'}}},\n",
       "  'url': 'https://data.norges-bank.no/api',\n",
       "  'name': 'Norges Bank - generic data format'},\n",
       " 'NB_S': {'id': 'NB',\n",
       "  'resources': {'data': {'headers': {'Accept': 'application/vnd.sdmx.structurespecificdata+xml;version=2.1'}}},\n",
       "  'url': 'https://data.norges-bank.no/api',\n",
       "  'name': 'Norges Bank - structure-specific data format'},\n",
       " 'ILO': {'id': 'ILO',\n",
       "  'resources': {'data': {'headers': {}}},\n",
       "  'url': 'http://www.ilo.org/ilostat/sdmx/ws/rest',\n",
       "  'name': 'International Labour Organization - any format'}}"
      ]
     },
     "execution_count": 1,
     "metadata": {},
     "output_type": "execute_result"
    }
   ],
   "source": [
    "import pandasdmx as pds\n",
    "# https://pandasdmx.readthedocs.io/en/stable/usage.html\n",
    "pds.Request._agencies"
   ]
  },
  {
   "cell_type": "code",
   "execution_count": 2,
   "metadata": {},
   "outputs": [],
   "source": [
    "istat = pds.Request('ISTAT_S', timeout=3000)\n",
    "flowr = istat.dataflow()"
   ]
  },
  {
   "cell_type": "code",
   "execution_count": 3,
   "metadata": {},
   "outputs": [
    {
     "data": {
      "text/html": [
       "<div>\n",
       "<style scoped>\n",
       "    .dataframe tbody tr th:only-of-type {\n",
       "        vertical-align: middle;\n",
       "    }\n",
       "\n",
       "    .dataframe tbody tr th {\n",
       "        vertical-align: top;\n",
       "    }\n",
       "\n",
       "    .dataframe thead th {\n",
       "        text-align: right;\n",
       "    }\n",
       "</style>\n",
       "<table border=\"1\" class=\"dataframe\">\n",
       "  <thead>\n",
       "    <tr style=\"text-align: right;\">\n",
       "      <th></th>\n",
       "      <th>name</th>\n",
       "      <th>src</th>\n",
       "    </tr>\n",
       "    <tr>\n",
       "      <th>dataflow</th>\n",
       "      <th></th>\n",
       "      <th></th>\n",
       "    </tr>\n",
       "  </thead>\n",
       "  <tbody>\n",
       "    <tr>\n",
       "      <th>152_879</th>\n",
       "      <td>Inactive population  - monthly data</td>\n",
       "      <td>9</td>\n",
       "    </tr>\n",
       "    <tr>\n",
       "      <th>152_887</th>\n",
       "      <td>Inactive population - quarterly seasonally adj...</td>\n",
       "      <td>9</td>\n",
       "    </tr>\n",
       "    <tr>\n",
       "      <th>152_928</th>\n",
       "      <td>Inactive  population</td>\n",
       "      <td>10</td>\n",
       "    </tr>\n",
       "    <tr>\n",
       "      <th>164_164</th>\n",
       "      <td>Estimated resident population - Years 2001-2011</td>\n",
       "      <td>19</td>\n",
       "    </tr>\n",
       "    <tr>\n",
       "      <th>164_279</th>\n",
       "      <td>Estimated resident population - Years 1982-1991</td>\n",
       "      <td>19</td>\n",
       "    </tr>\n",
       "    <tr>\n",
       "      <th>164_305</th>\n",
       "      <td>Estimated resident population - Years 1991-2001</td>\n",
       "      <td>19</td>\n",
       "    </tr>\n",
       "    <tr>\n",
       "      <th>164_346</th>\n",
       "      <td>Estimated resident population - Years 1952-1971</td>\n",
       "      <td>19</td>\n",
       "    </tr>\n",
       "    <tr>\n",
       "      <th>164_347</th>\n",
       "      <td>Estimated resident population - Years 1972-1981</td>\n",
       "      <td>19</td>\n",
       "    </tr>\n",
       "    <tr>\n",
       "      <th>164_496</th>\n",
       "      <td>Estimated resident population within the borde...</td>\n",
       "      <td>19</td>\n",
       "    </tr>\n",
       "    <tr>\n",
       "      <th>22_289</th>\n",
       "      <td>Resident population  on 1st January</td>\n",
       "      <td>9</td>\n",
       "    </tr>\n",
       "    <tr>\n",
       "      <th>22_315</th>\n",
       "      <td>Resident population  - balance</td>\n",
       "      <td>9</td>\n",
       "    </tr>\n",
       "    <tr>\n",
       "      <th>283_138</th>\n",
       "      <td>New series of estimates on the resident popula...</td>\n",
       "      <td>40</td>\n",
       "    </tr>\n",
       "    <tr>\n",
       "      <th>730_1049</th>\n",
       "      <td>Regular, irregular employment and population -...</td>\n",
       "      <td>34</td>\n",
       "    </tr>\n",
       "    <tr>\n",
       "      <th>737_1087</th>\n",
       "      <td>Regular, irregular employment and population -...</td>\n",
       "      <td>34</td>\n",
       "    </tr>\n",
       "    <tr>\n",
       "      <th>73_173</th>\n",
       "      <td>Prison population held in institutions for adu...</td>\n",
       "      <td>7</td>\n",
       "    </tr>\n",
       "    <tr>\n",
       "      <th>92_507</th>\n",
       "      <td>Regular, irregular employment and population</td>\n",
       "      <td>34</td>\n",
       "    </tr>\n",
       "    <tr>\n",
       "      <th>93_379</th>\n",
       "      <td>Regular,  irregular employment and population</td>\n",
       "      <td>35</td>\n",
       "    </tr>\n",
       "  </tbody>\n",
       "</table>\n",
       "</div>"
      ],
      "text/plain": [
       "                                                       name  src\n",
       "dataflow                                                        \n",
       "152_879                 Inactive population  - monthly data    9\n",
       "152_887   Inactive population - quarterly seasonally adj...    9\n",
       "152_928                                Inactive  population   10\n",
       "164_164     Estimated resident population - Years 2001-2011   19\n",
       "164_279     Estimated resident population - Years 1982-1991   19\n",
       "164_305     Estimated resident population - Years 1991-2001   19\n",
       "164_346     Estimated resident population - Years 1952-1971   19\n",
       "164_347     Estimated resident population - Years 1972-1981   19\n",
       "164_496   Estimated resident population within the borde...   19\n",
       "22_289                  Resident population  on 1st January    9\n",
       "22_315                       Resident population  - balance    9\n",
       "283_138   New series of estimates on the resident popula...   40\n",
       "730_1049  Regular, irregular employment and population -...   34\n",
       "737_1087  Regular, irregular employment and population -...   34\n",
       "73_173    Prison population held in institutions for adu...    7\n",
       "92_507         Regular, irregular employment and population   34\n",
       "93_379        Regular,  irregular employment and population   35"
      ]
     },
     "execution_count": 3,
     "metadata": {},
     "output_type": "execute_result"
    }
   ],
   "source": [
    "sets = flowr.write().dataflow\n",
    "sets['src']= sets['name'].str.find('population')\n",
    "sets[sets['src'] >= 0]"
   ]
  },
  {
   "cell_type": "code",
   "execution_count": 4,
   "metadata": {},
   "outputs": [],
   "source": [
    "population=istat.dataflow('IT1/22_289')"
   ]
  },
  {
   "cell_type": "code",
   "execution_count": 5,
   "metadata": {},
   "outputs": [
    {
     "data": {
      "text/plain": [
       "{'codelist':                                 name\n",
       " CL_BASE_YEAR NaN           Base year\n",
       "              0000        unspecified\n",
       "              1980          year 1980\n",
       "              1981          year 1981\n",
       "              1982          year 1982\n",
       " ...                              ...\n",
       " CL_UNIT_MULT 2              Hundreds\n",
       "              3             Thousands\n",
       "              4     Tens of thousands\n",
       "              6              Millions\n",
       "              9              Billions\n",
       " \n",
       " [12183 rows x 1 columns],\n",
       " 'dataflow':                                          name\n",
       " dataflow                                     \n",
       " 22_289    Resident population  on 1st January,\n",
       " 'categoryscheme':                                                          name\n",
       " ISTAT_DW NaN                                           I.STAT\n",
       "          101                                      Agriculture\n",
       "          111                        Industry and Construction\n",
       "          117                                         Services\n",
       "          123  Public Administrations and Private Institutions\n",
       "          138          External Trade and Internationalisation\n",
       "          143                                           Prices\n",
       "          149                                 Labour and wages\n",
       "          21                         Population and Households\n",
       "          30    Households Economic Conditions and Disparities\n",
       "          36                                 Health statistics\n",
       "          45                       Social Security and Welfare\n",
       "          52                            Education and training\n",
       "          6                                        Enterprises\n",
       "          60                     Communication, culture, trips\n",
       "          71                              Justice and Security\n",
       "          729                             Territorial features\n",
       "          80                  Citizens'opinions and daily life\n",
       "          9                             Environment and Energy\n",
       "          91                                 National Accounts,\n",
       " 'conceptscheme':                                                                         name\n",
       " CROSS_DOMAIN NaN                                       Cross domain concepts\n",
       "              ADJUSTMENT                                           Adjustment\n",
       "              AGGR                                                  Aggregate\n",
       "              AGGR_PIL                                         GDP aggregates\n",
       "              ANNATA_AGRF                                   Agrarian year end\n",
       " ...                                                                      ...\n",
       " VARIAB_ALL   VIAGGIO                                            Type of trip\n",
       "              VISITA_ACCERT  Type of doctor consultations or diagnostic tests\n",
       "              VOCI_SPESA                                         Expenditures\n",
       "              VOLON_ORG                       Organization-based volunteering\n",
       "              ZONA_ALTIM                                             Altitude\n",
       " \n",
       " [849 rows x 1 columns]}"
      ]
     },
     "execution_count": 5,
     "metadata": {},
     "output_type": "execute_result"
    }
   ],
   "source": [
    "population.write()"
   ]
  },
  {
   "cell_type": "code",
   "execution_count": 6,
   "metadata": {},
   "outputs": [
    {
     "data": {
      "text/plain": [
       "[Dimension | FREQ,\n",
       " Dimension | ETA,\n",
       " Dimension | ITTER107,\n",
       " Dimension | SESSO,\n",
       " Dimension | STATO_CIV,\n",
       " Dimension | TIPO_INDDEM,\n",
       " TimeDimension | TIME_PERIOD]"
      ]
     },
     "execution_count": 6,
     "metadata": {},
     "output_type": "execute_result"
    }
   ],
   "source": [
    "population.dataflow['22_289'].structure().dimensions.aslist()"
   ]
  },
  {
   "cell_type": "code",
   "execution_count": 7,
   "metadata": {},
   "outputs": [
    {
     "data": {
      "text/plain": [
       "[DataAttribute | BASE_PER,\n",
       " DataAttribute | BREAK,\n",
       " DataAttribute | CONF_STATUS,\n",
       " DataAttribute | METADATA_EN,\n",
       " DataAttribute | METADATA_IT,\n",
       " DataAttribute | OBS_PRE_BREAK,\n",
       " DataAttribute | OBS_STATUS,\n",
       " DataAttribute | UNIT_MEAS,\n",
       " DataAttribute | UNIT_MULT]"
      ]
     },
     "execution_count": 7,
     "metadata": {},
     "output_type": "execute_result"
    }
   ],
   "source": [
    "population.dataflow['22_289'].structure().attributes.aslist()"
   ]
  },
  {
   "cell_type": "code",
   "execution_count": null,
   "metadata": {},
   "outputs": [],
   "source": [
    "data=istat.data('22_289')"
   ]
  },
  {
   "cell_type": "code",
   "execution_count": null,
   "metadata": {},
   "outputs": [],
   "source": [
    "data"
   ]
  },
  {
   "cell_type": "code",
   "execution_count": null,
   "metadata": {},
   "outputs": [],
   "source": []
  }
 ],
 "metadata": {
  "kernelspec": {
   "display_name": "Python 3",
   "language": "python",
   "name": "python3"
  },
  "language_info": {
   "codemirror_mode": {
    "name": "ipython",
    "version": 3
   },
   "file_extension": ".py",
   "mimetype": "text/x-python",
   "name": "python",
   "nbconvert_exporter": "python",
   "pygments_lexer": "ipython3",
   "version": "3.7.6"
  }
 },
 "nbformat": 4,
 "nbformat_minor": 4
}
